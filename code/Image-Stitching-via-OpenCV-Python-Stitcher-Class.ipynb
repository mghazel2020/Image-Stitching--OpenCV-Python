{
 "cells": [
  {
   "cell_type": "markdown",
   "metadata": {},
   "source": [
    "## Project: Image Stitching using OpenCV Python Stitcher() class\n",
    "* The objective of this project is to demonstrate image stitching using OpenCV-Python Stitcher class."
   ]
  },
  {
   "cell_type": "markdown",
   "metadata": {},
   "source": [
    "#### Author: Mohsen Ghazel (mghazel)\n",
    "* Date: March 31st, 2021"
   ]
  },
  {
   "cell_type": "markdown",
   "metadata": {},
   "source": [
    "### Step 1: Imports and global variables"
   ]
  },
  {
   "cell_type": "code",
   "execution_count": 1,
   "metadata": {},
   "outputs": [
    {
     "name": "stdout",
     "output_type": "stream",
     "text": [
      "Python version : 3.8.5 (default, Sep  3 2020, 21:29:08) [MSC v.1916 64 bit (AMD64)] \n",
      "OpenCV version : 4.5.1 \n",
      "Numpy version  : 1.19.2\n"
     ]
    }
   ],
   "source": [
    "#-------------------------------------------\n",
    "# Imports:\n",
    "#-------------------------------------------\n",
    "# OpenCV\n",
    "import cv2\n",
    "# Numpy\n",
    "import numpy as np\n",
    "# matplotlib\n",
    "import matplotlib.pyplot as plt\n",
    "import matplotlib.image as mpimg\n",
    "import sys\n",
    "# I/O\n",
    "import os\n",
    "# time \n",
    "import time\n",
    "\n",
    "# Make figures visible\n",
    "%matplotlib notebook\n",
    "#-------------------------------------------\n",
    "# Check imports and display version numbers\n",
    "#-------------------------------------------\n",
    "print(\"Python version : {0} \".format(sys.version))\n",
    "print(\"OpenCV version : {0} \".format(cv2.__version__))\n",
    "print(\"Numpy version  : {0}\".format(np.__version__))"
   ]
  },
  {
   "cell_type": "markdown",
   "metadata": {},
   "source": [
    "### Step 2: Define image stitching function"
   ]
  },
  {
   "cell_type": "code",
   "execution_count": 2,
   "metadata": {},
   "outputs": [],
   "source": [
    "'''\n",
    "Perform image stitching using OpenCV-Python Stitcher class\n",
    "to generate a panorama of the input image\n",
    "\n",
    "Input:\n",
    "    input_path: the path of the folder containing the input images\n",
    "    output_fname: the file name of the output panorama\n",
    "    \n",
    "Returns:\n",
    "    None.\n",
    "'''\n",
    "def stitch_images(input_path, output_fname):\n",
    "    #-------------------------------------------------\n",
    "    # Step 1: Iterate over the image sin the input \n",
    "    #         data folder:\n",
    "    #-------------------------------------------------\n",
    "    # craete a list to store the images\n",
    "    imgs = []\n",
    "    # iterate over the files in the input foldsr\n",
    "    for (root, dirs, files) in os.walk(input_path):\n",
    "        # create a list of file names\n",
    "        images = [f for f in files]\n",
    "        # display the list of inpit file name\n",
    "        print('The list of images to be stitched together: ')\n",
    "        print(images)\n",
    "        # read all the image files\n",
    "        for i in range(0,len(images)):\n",
    "            # read the next image file\n",
    "            curImg = cv2.imread(input_path + images[i])\n",
    "            # append the read image to the imgs list\n",
    "            imgs.append(curImg)\n",
    "\n",
    "    #-------------------------------------------------\n",
    "    # Step 2: Stitch the input  images using: Stitcher \n",
    "    #         class\n",
    "    #-------------------------------------------------\n",
    "    # instantiate the Stitcher class\n",
    "    stitcher = cv2.Stitcher.create(mode = 0)\n",
    "    # stitcher = cv2.Stitcher_create(mode = 0)\n",
    "    # Stich the images using Stitcher class\n",
    "    status, result = stitcher.stitch(imgs)\n",
    "    # check the execution status\n",
    "    if status != cv2.Stitcher_OK:\n",
    "        # in cas eof an error\n",
    "        print(\"Can't stitch images, error code = %d\" % status)\n",
    "        sys.exit(-1)\n",
    "    #-------------------------------------------------\n",
    "    # Step 3: Save the output panorama image\n",
    "    #-------------------------------------------------\n",
    "    # save the output panorama file name\n",
    "    cv2.imwrite(output_fname, result)\n",
    "    # return\n",
    "    return\n"
   ]
  },
  {
   "cell_type": "markdown",
   "metadata": {},
   "source": [
    "### Step 3: Define input and output paths"
   ]
  },
  {
   "cell_type": "markdown",
   "metadata": {},
   "source": [
    "* The folder containing the input images to be stitched together\n",
    "* The full-path file name of the output panorama image "
   ]
  },
  {
   "cell_type": "code",
   "execution_count": 6,
   "metadata": {},
   "outputs": [],
   "source": [
    "# the input path\n",
    "input_path = '../images/'\n",
    "\n",
    "# the name of the generated panorama image\n",
    "panorama_fname = '../results/panorama.jpg'"
   ]
  },
  {
   "cell_type": "markdown",
   "metadata": {},
   "source": [
    "### Step 4: Run the image stitching functionality:\n",
    "* Call the panorama generator function to stitch the images together"
   ]
  },
  {
   "cell_type": "code",
   "execution_count": 5,
   "metadata": {},
   "outputs": [
    {
     "name": "stdout",
     "output_type": "stream",
     "text": [
      "-------------------------------------------\n",
      "Start of image stitching:\n",
      "-------------------------------------------\n",
      "The list of images to be stitched together: \n",
      "['1Hill.JPG', '2Hill.JPG', '3Hill.JPG']\n",
      "Image stitching completed successfully!\n",
      "Execution time = 4.738342761993408 secs.\n",
      "-------------------------------------------\n"
     ]
    }
   ],
   "source": [
    "# display amessage\n",
    "print('-------------------------------------------')\n",
    "print('Start of image stitching:')\n",
    "print('-------------------------------------------')\n",
    "# keep track of the start time to compute the execution time\n",
    "start_time = time.time()\n",
    "# call the image stitching function\n",
    "stitch_images(input_path, panorama_fname)\n",
    "# keep track of the finish time to compute the execution time\n",
    "finish_time = time.time()\n",
    "# compute the execution time\n",
    "execution_time = finish_time - start_time\n",
    "# display amessage\n",
    "print('Image stitching completed successfully!')\n",
    "print(\"Execution time = \" + str(execution_time) + \" secs.\")\n",
    "print('-------------------------------------------')\n",
    "# wait for user to hit any key to terminate session\n",
    "cv2.waitKey(0)\n",
    "# close all open figures\n",
    "cv2.destroyAllWindows()"
   ]
  },
  {
   "cell_type": "code",
   "execution_count": null,
   "metadata": {},
   "outputs": [],
   "source": []
  },
  {
   "cell_type": "code",
   "execution_count": null,
   "metadata": {},
   "outputs": [],
   "source": []
  }
 ],
 "metadata": {
  "kernelspec": {
   "display_name": "Python 3",
   "language": "python",
   "name": "python3"
  },
  "language_info": {
   "codemirror_mode": {
    "name": "ipython",
    "version": 3
   },
   "file_extension": ".py",
   "mimetype": "text/x-python",
   "name": "python",
   "nbconvert_exporter": "python",
   "pygments_lexer": "ipython3",
   "version": "3.8.5"
  }
 },
 "nbformat": 4,
 "nbformat_minor": 4
}
